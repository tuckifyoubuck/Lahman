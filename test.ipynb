{
 "cells": [
  {
   "cell_type": "code",
   "execution_count": null,
   "id": "aaa4948f",
   "metadata": {},
   "outputs": [],
   "source": [
    "from lahman_class import Lahman\n",
    "from postgresql_class import PSQL"
   ]
  },
  {
   "cell_type": "code",
   "execution_count": null,
   "id": "7ce6a373",
   "metadata": {},
   "outputs": [],
   "source": [
    "lahman=Lahman()"
   ]
  },
  {
   "cell_type": "code",
   "execution_count": null,
   "id": "4cafd23f",
   "metadata": {},
   "outputs": [],
   "source": [
    "# gets directories/schemas from lahman github\n",
    "schemas = lahman.get_directories()\n",
    "# gets table names in each schema and returns in dict\n",
    "layout = lahman.get_tbl_names_in_dirs(schemas)"
   ]
  },
  {
   "cell_type": "code",
   "execution_count": null,
   "id": "755c583f",
   "metadata": {},
   "outputs": [],
   "source": [
    "# prints schemas/directores and tables/csvs in them\n",
    "for k, v in layout.items():\n",
    "    print(k)\n",
    "    print(v)\n",
    "    print('\\n')"
   ]
  },
  {
   "cell_type": "code",
   "execution_count": null,
   "id": "e4db598f",
   "metadata": {},
   "outputs": [],
   "source": [
    "# create new DB named lahman\n",
    "new_db_name = 'lahman'\n",
    "print('password:')\n",
    "password = input()\n",
    "temp_db_engine = PSQL(user='postgres', password=password)\n",
    "temp_db_engine.create_new_db(new_db_name)"
   ]
  },
  {
   "cell_type": "code",
   "execution_count": null,
   "id": "cb517d7b",
   "metadata": {},
   "outputs": [],
   "source": [
    "# connect to newly created db\n",
    "print('password:')\n",
    "password=input()\n",
    "new_db_engine = PSQL(user='postgres', password=password, database=new_db_name) "
   ]
  },
  {
   "cell_type": "code",
   "execution_count": null,
   "id": "e60abe7c",
   "metadata": {},
   "outputs": [],
   "source": [
    "# create schemas in database based on schema/directory list returned from github\n",
    "new_db_engine.create_schemas(schemas)"
   ]
  },
  {
   "cell_type": "code",
   "execution_count": null,
   "id": "584cecf4",
   "metadata": {},
   "outputs": [],
   "source": [
    "# loops through schemas and list of tables in them\n",
    "# creates a table and bulk inserts data from df\n",
    "temp_dict = {}\n",
    "for schema, tables in layout.items():\n",
    "    temp_dict = lahman.get_tbls_from_dir(tables=tables, directory=schema)\n",
    "    for tbl_name, dataframe in temp_dict.items():\n",
    "        new_db_engine.create_tbl(dataframe=dataframe, tbl_name=tbl_name, schema=schema)\n",
    "        new_db_engine.insert_into_tbl(dataframe=dataframe, tbl_name=tbl_name, schema=schema)"
   ]
  },
  {
   "cell_type": "code",
   "execution_count": null,
   "id": "e4d4a62a",
   "metadata": {},
   "outputs": [],
   "source": []
  },
  {
   "cell_type": "code",
   "execution_count": null,
   "id": "1ad08d19",
   "metadata": {},
   "outputs": [],
   "source": []
  },
  {
   "cell_type": "code",
   "execution_count": null,
   "id": "7f50cb94",
   "metadata": {},
   "outputs": [],
   "source": []
  },
  {
   "cell_type": "code",
   "execution_count": null,
   "id": "70d8afb4",
   "metadata": {},
   "outputs": [],
   "source": []
  },
  {
   "cell_type": "code",
   "execution_count": null,
   "id": "14e04c07",
   "metadata": {},
   "outputs": [],
   "source": []
  },
  {
   "cell_type": "code",
   "execution_count": null,
   "id": "d42c7e3e",
   "metadata": {},
   "outputs": [],
   "source": []
  },
  {
   "cell_type": "code",
   "execution_count": null,
   "id": "d6b23e69",
   "metadata": {},
   "outputs": [],
   "source": [
    "from postgresql_class import PSQL\n",
    "import matplotlib.pyplot as plt\n",
    "%matplotlib inline"
   ]
  },
  {
   "cell_type": "code",
   "execution_count": null,
   "id": "e31c2f12",
   "metadata": {},
   "outputs": [],
   "source": [
    "print('user:')\n",
    "user = input()\n",
    "print('password:')\n",
    "password = input()\n",
    "print('database:')\n",
    "database = input()\n",
    "\n",
    "lahmandb = PSQL(user=user, password=password, database=database)"
   ]
  },
  {
   "cell_type": "code",
   "execution_count": null,
   "id": "b8aa5e96",
   "metadata": {},
   "outputs": [],
   "source": [
    "query = \"\"\"\n",
    "SELECT\n",
    "CONCAT(p.\"nameFirst\" , ' ', p.\"nameLast\") as \"fullName\",\n",
    "b.\"yearID\",\n",
    "b.\"HR\",\n",
    "b.\"SB\"\n",
    "FROM core.batting b\n",
    "LEFT JOIN core.people p\n",
    "on b.\"playerID\" = p.\"playerID\" \n",
    "where p.\"nameLast\" = 'Bonds'\n",
    "and p.\"nameFirst\" = 'Barry'\n",
    "order by b.\"yearID\" asc\"\"\""
   ]
  },
  {
   "cell_type": "code",
   "execution_count": null,
   "id": "880bcddb",
   "metadata": {},
   "outputs": [],
   "source": [
    "df = lahmandb.query_db(query)"
   ]
  },
  {
   "cell_type": "code",
   "execution_count": null,
   "id": "fb3c1990",
   "metadata": {},
   "outputs": [],
   "source": [
    "df"
   ]
  },
  {
   "cell_type": "code",
   "execution_count": null,
   "id": "75f0c56a",
   "metadata": {},
   "outputs": [],
   "source": [
    "df.set_index('yearID') # set x-axis\n",
    "\n",
    "fig = plt.figure()\n",
    "\n",
    "x = fig.add_subplot(111)\n",
    "df['HR'].plot(ax=x, label='HR')\n",
    "df['SB'].plot(ax=x, label='SB')\n",
    "\n",
    "plt.show()"
   ]
  },
  {
   "cell_type": "code",
   "execution_count": null,
   "id": "2abc1621",
   "metadata": {},
   "outputs": [],
   "source": []
  }
 ],
 "metadata": {
  "kernelspec": {
   "display_name": "Python 3 (ipykernel)",
   "language": "python",
   "name": "python3"
  },
  "language_info": {
   "codemirror_mode": {
    "name": "ipython",
    "version": 3
   },
   "file_extension": ".py",
   "mimetype": "text/x-python",
   "name": "python",
   "nbconvert_exporter": "python",
   "pygments_lexer": "ipython3",
   "version": "3.10.6"
  }
 },
 "nbformat": 4,
 "nbformat_minor": 5
}
