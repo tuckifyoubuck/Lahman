{
 "cells": [
  {
   "cell_type": "code",
   "execution_count": null,
   "id": "1c72a08d",
   "metadata": {},
   "outputs": [],
   "source": [
    "from bs4 import BeautifulSoup as bs\n",
    "import requests\n",
    "import pandas as pd"
   ]
  },
  {
   "cell_type": "code",
   "execution_count": null,
   "id": "c68444bd",
   "metadata": {},
   "outputs": [],
   "source": [
    "df = pd.read_csv('https://raw.githubusercontent.com/chadwickbureau/baseballdatabank/master/core/AllstarFull.csv')"
   ]
  },
  {
   "cell_type": "code",
   "execution_count": null,
   "id": "6b86a309",
   "metadata": {},
   "outputs": [],
   "source": [
    "df.info()"
   ]
  },
  {
   "cell_type": "code",
   "execution_count": null,
   "id": "2c85bf69",
   "metadata": {},
   "outputs": [],
   "source": [
    "folder_list = ['core', 'contrib', 'upstream']"
   ]
  },
  {
   "cell_type": "code",
   "execution_count": null,
   "id": "2ed3f7f7",
   "metadata": {},
   "outputs": [],
   "source": [
    "folder_list = ['core', 'contrib', 'upstream']\n",
    "folder_elements_dict = {}\n",
    "\n",
    "for f in folder_list:\n",
    "    res = requests.get(f\"https://github.com/chadwickbureau/baseballdatabank/tree/master/{f}\")\n",
    "    soup = bs(res.text, 'lxml')\n",
    "    file = soup.find_all('a',class_=\"js-navigation-open\")\n",
    "    file_list = []\n",
    "\n",
    "\n",
    "\n",
    "\n"
   ]
  },
  {
   "cell_type": "code",
   "execution_count": null,
   "id": "3d0871da",
   "metadata": {},
   "outputs": [],
   "source": [
    "from bs4 import BeautifulSoup as bs\n",
    "import requests\n",
    "l = []\n",
    "res = requests.get(\"https://github.com/chadwickbureau/baseballdatabank/tree/master\")    \n",
    "soup = bs(res.text, 'lxml')   \n",
    "file = soup.find_all('a',class_=\"js-navigation-open\")\n",
    "for i in file:\n",
    "    if '.' in i.text:\n",
    "        pass\n",
    "    elif '\\n' in i.text:\n",
    "        pass\n",
    "    else:\n",
    "        print(i.text)"
   ]
  },
  {
   "cell_type": "code",
   "execution_count": null,
   "id": "9daf3865",
   "metadata": {},
   "outputs": [],
   "source": [
    "from bs4 import BeautifulSoup as bs\n",
    "import requests\n",
    "\n",
    "\n",
    "res = requests.get(\"https://github.com/chadwickbureau/baseballdatabank/tree/master\")    \n",
    "soup = bs(res.text, 'lxml')   \n",
    "file = soup.find_all('a',class_=\"js-navigation-open\")\n",
    "\n",
    "substring_list = ['.', '\\n']\n",
    "\n",
    "for i in file:\n",
    "    if not any(substring in i.text for substring in substring_list):\n",
    "        print(i.text)"
   ]
  },
  {
   "cell_type": "code",
   "execution_count": null,
   "id": "925e6b94",
   "metadata": {},
   "outputs": [],
   "source": [
    "from bs4 import BeautifulSoup as bs\n",
    "import requests\n",
    "\n",
    "lahman_master = \"https://github.com/chadwickbureau/baseballdatabank/tree/master\"\n",
    "\n",
    "res = requests.get(lahman_master)    \n",
    "soup = bs(res.text, 'lxml')   \n",
    "file = soup.find_all('a',class_=\"js-navigation-open\")\n",
    "\n",
    "substring_ignore_list = ['.', '\\n']\n",
    "lahman_folders_list = []\n",
    "\n",
    "for i in file:\n",
    "    if not any(substring in i.text for substring in substring_ignore_list):\n",
    "        lahman_folders_list.append(i.text)\n",
    "        \n",
    "print(lahman_folders_list)"
   ]
  },
  {
   "cell_type": "code",
   "execution_count": null,
   "id": "d47de205",
   "metadata": {},
   "outputs": [],
   "source": [
    "lahman_folder_element_dict = {}\n",
    "\n",
    "for folder in lahman_folders_list:\n",
    "    res = requests.get(lahman_master+'/'+folder)\n",
    "    soup = bs(res.text, 'lxml')\n",
    "    file = soup.find_all('a',class_=\"js-navigation-open\")\n",
    "    folder_files = []\n",
    "    for i in file:\n",
    "        if '.csv' in i.text:\n",
    "            folder_files.append(i.text)\n",
    "    lahman_folder_element_dict[folder] = folder_files\n",
    "\n",
    "print(lahman_folder_element_dict)"
   ]
  },
  {
   "cell_type": "code",
   "execution_count": null,
   "id": "6397d784",
   "metadata": {},
   "outputs": [],
   "source": []
  },
  {
   "cell_type": "code",
   "execution_count": null,
   "id": "6af6f021",
   "metadata": {},
   "outputs": [],
   "source": []
  },
  {
   "cell_type": "code",
   "execution_count": null,
   "id": "c9f31aa4",
   "metadata": {},
   "outputs": [],
   "source": []
  },
  {
   "cell_type": "code",
   "execution_count": null,
   "id": "4ae9e127",
   "metadata": {},
   "outputs": [],
   "source": []
  },
  {
   "cell_type": "code",
   "execution_count": null,
   "id": "66405bed",
   "metadata": {},
   "outputs": [],
   "source": []
  },
  {
   "cell_type": "code",
   "execution_count": null,
   "id": "89606584",
   "metadata": {},
   "outputs": [],
   "source": [
    "from lahman_class import Lahman"
   ]
  },
  {
   "cell_type": "code",
   "execution_count": null,
   "id": "cfba0a9a",
   "metadata": {},
   "outputs": [],
   "source": [
    "lahman = Lahman()"
   ]
  },
  {
   "cell_type": "code",
   "execution_count": null,
   "id": "9b0638e0",
   "metadata": {},
   "outputs": [],
   "source": [
    "directories = lahman.get_directories()\n",
    "directories"
   ]
  },
  {
   "cell_type": "code",
   "execution_count": null,
   "id": "d5ab65b6",
   "metadata": {},
   "outputs": [],
   "source": [
    "files = lahman.get_tbl_names_in_dirs()\n",
    "for k, v in files.items():\n",
    "    print(k)\n",
    "    print(v)\n",
    "    print('\\n')"
   ]
  },
  {
   "cell_type": "code",
   "execution_count": null,
   "id": "5193b249",
   "metadata": {},
   "outputs": [],
   "source": [
    "dfs = lahman.get_tbls_from_dir(['Batting', 'People'])"
   ]
  },
  {
   "cell_type": "code",
   "execution_count": null,
   "id": "8fbde774",
   "metadata": {},
   "outputs": [],
   "source": [
    "for k, v in dfs.items():\n",
    "    print(k)"
   ]
  },
  {
   "cell_type": "code",
   "execution_count": null,
   "id": "110705b5",
   "metadata": {},
   "outputs": [],
   "source": [
    "df_bat = dfs['Batting']\n",
    "df_ppl = dfs['People']"
   ]
  },
  {
   "cell_type": "code",
   "execution_count": null,
   "id": "84b79c6b",
   "metadata": {},
   "outputs": [],
   "source": [
    "df_people.head()"
   ]
  },
  {
   "cell_type": "code",
   "execution_count": null,
   "id": "fad51af4",
   "metadata": {},
   "outputs": [],
   "source": [
    "df_bat = df_batting.merge(df_people[['playerID', 'nameGiven', 'nameLast']], on='playerID', how='left')"
   ]
  },
  {
   "cell_type": "code",
   "execution_count": null,
   "id": "cb066e86",
   "metadata": {},
   "outputs": [],
   "source": [
    "df_bat.info()"
   ]
  },
  {
   "cell_type": "code",
   "execution_count": null,
   "id": "3d211a2d",
   "metadata": {},
   "outputs": [],
   "source": [
    "bat_2020_2022 = df_bat[df_batting['yearID'].isin(range(2020,2022))] #filters to years 2020-2022\n"
   ]
  },
  {
   "cell_type": "code",
   "execution_count": null,
   "id": "77958720",
   "metadata": {},
   "outputs": [],
   "source": []
  }
 ],
 "metadata": {
  "kernelspec": {
   "display_name": "Python 3 (ipykernel)",
   "language": "python",
   "name": "python3"
  },
  "language_info": {
   "codemirror_mode": {
    "name": "ipython",
    "version": 3
   },
   "file_extension": ".py",
   "mimetype": "text/x-python",
   "name": "python",
   "nbconvert_exporter": "python",
   "pygments_lexer": "ipython3",
   "version": "3.10.6"
  }
 },
 "nbformat": 4,
 "nbformat_minor": 5
}
