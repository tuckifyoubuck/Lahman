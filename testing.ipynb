{
 "cells": [
  {
   "cell_type": "code",
   "execution_count": null,
   "id": "1c72a08d",
   "metadata": {},
   "outputs": [],
   "source": [
    "from bs4 import BeautifulSoup as bs\n",
    "import requests\n",
    "import pandas as pd"
   ]
  },
  {
   "cell_type": "code",
   "execution_count": null,
   "id": "c68444bd",
   "metadata": {},
   "outputs": [],
   "source": [
    "df = pd.read_csv('https://raw.githubusercontent.com/chadwickbureau/baseballdatabank/master/core/AllstarFull.csv')"
   ]
  },
  {
   "cell_type": "code",
   "execution_count": null,
   "id": "6b86a309",
   "metadata": {},
   "outputs": [],
   "source": [
    "df.info()"
   ]
  },
  {
   "cell_type": "code",
   "execution_count": null,
   "id": "2c85bf69",
   "metadata": {},
   "outputs": [],
   "source": [
    "folder_list = ['core', 'contrib', 'upstream']"
   ]
  },
  {
   "cell_type": "code",
   "execution_count": null,
   "id": "2ed3f7f7",
   "metadata": {},
   "outputs": [],
   "source": [
    "folder_list = ['core', 'contrib', 'upstream']\n",
    "folder_elements_dict = {}\n",
    "\n",
    "for f in folder_list:\n",
    "    res = requests.get(f\"https://github.com/chadwickbureau/baseballdatabank/tree/master/{f}\")\n",
    "    soup = bs(res.text, 'lxml')\n",
    "    file = soup.find_all('a',class_=\"js-navigation-open\")\n",
    "    file_list = []\n",
    "\n",
    "\n",
    "\n",
    "\n"
   ]
  },
  {
   "cell_type": "code",
   "execution_count": null,
   "id": "3d0871da",
   "metadata": {},
   "outputs": [],
   "source": [
    "from bs4 import BeautifulSoup as bs\n",
    "import requests\n",
    "l = []\n",
    "res = requests.get(\"https://github.com/chadwickbureau/baseballdatabank/tree/master\")    \n",
    "soup = bs(res.text, 'lxml')   \n",
    "file = soup.find_all('a',class_=\"js-navigation-open\")\n",
    "for i in file:\n",
    "    if '.' in i.text:\n",
    "        pass\n",
    "    elif '\\n' in i.text:\n",
    "        pass\n",
    "    else:\n",
    "        print(i.text)"
   ]
  },
  {
   "cell_type": "code",
   "execution_count": null,
   "id": "9daf3865",
   "metadata": {},
   "outputs": [],
   "source": [
    "from bs4 import BeautifulSoup as bs\n",
    "import requests\n",
    "\n",
    "\n",
    "res = requests.get(\"https://github.com/chadwickbureau/baseballdatabank/tree/master\")    \n",
    "soup = bs(res.text, 'lxml')   \n",
    "file = soup.find_all('a',class_=\"js-navigation-open\")\n",
    "\n",
    "substring_list = ['.', '\\n']\n",
    "\n",
    "for i in file:\n",
    "    if not any(substring in i.text for substring in substring_list):\n",
    "        print(i.text)"
   ]
  },
  {
   "cell_type": "code",
   "execution_count": null,
   "id": "925e6b94",
   "metadata": {},
   "outputs": [],
   "source": [
    "from bs4 import BeautifulSoup as bs\n",
    "import requests\n",
    "\n",
    "lahman_master = \"https://github.com/chadwickbureau/baseballdatabank/tree/master\"\n",
    "\n",
    "res = requests.get(lahman_master)    \n",
    "soup = bs(res.text, 'lxml')   \n",
    "file = soup.find_all('a',class_=\"js-navigation-open\")\n",
    "\n",
    "substring_ignore_list = ['.', '\\n']\n",
    "lahman_folders_list = []\n",
    "\n",
    "for i in file:\n",
    "    if not any(substring in i.text for substring in substring_ignore_list):\n",
    "        lahman_folders_list.append(i.text)\n",
    "        \n",
    "print(lahman_folders_list)"
   ]
  },
  {
   "cell_type": "code",
   "execution_count": null,
   "id": "d47de205",
   "metadata": {},
   "outputs": [],
   "source": [
    "lahman_folder_element_dict = {}\n",
    "\n",
    "for folder in lahman_folders_list:\n",
    "    res = requests.get(lahman_master+'/'+folder)\n",
    "    soup = bs(res.text, 'lxml')\n",
    "    file = soup.find_all('a',class_=\"js-navigation-open\")\n",
    "    folder_files = []\n",
    "    for i in file:\n",
    "        if '.csv' in i.text:\n",
    "            folder_files.append(i.text)\n",
    "    lahman_folder_element_dict[folder] = folder_files\n",
    "\n",
    "print(lahman_folder_element_dict)"
   ]
  },
  {
   "cell_type": "code",
   "execution_count": null,
   "id": "6397d784",
   "metadata": {},
   "outputs": [],
   "source": []
  },
  {
   "cell_type": "code",
   "execution_count": null,
   "id": "6af6f021",
   "metadata": {},
   "outputs": [],
   "source": []
  },
  {
   "cell_type": "code",
   "execution_count": null,
   "id": "c9f31aa4",
   "metadata": {},
   "outputs": [],
   "source": []
  },
  {
   "cell_type": "code",
   "execution_count": null,
   "id": "4ae9e127",
   "metadata": {},
   "outputs": [],
   "source": []
  },
  {
   "cell_type": "code",
   "execution_count": null,
   "id": "66405bed",
   "metadata": {},
   "outputs": [],
   "source": []
  },
  {
   "cell_type": "code",
   "execution_count": 1,
   "id": "89606584",
   "metadata": {},
   "outputs": [],
   "source": [
    "from lahman_class import Lahman"
   ]
  },
  {
   "cell_type": "code",
   "execution_count": 2,
   "id": "cfba0a9a",
   "metadata": {},
   "outputs": [],
   "source": [
    "lahman = Lahman()"
   ]
  },
  {
   "cell_type": "code",
   "execution_count": 3,
   "id": "9b0638e0",
   "metadata": {},
   "outputs": [
    {
     "data": {
      "text/plain": [
       "['contrib', 'core', 'upstream']"
      ]
     },
     "execution_count": 3,
     "metadata": {},
     "output_type": "execute_result"
    }
   ],
   "source": [
    "directories = lahman.get_directories()\n",
    "directories"
   ]
  },
  {
   "cell_type": "code",
   "execution_count": 4,
   "id": "d5ab65b6",
   "metadata": {},
   "outputs": [
    {
     "name": "stdout",
     "output_type": "stream",
     "text": [
      "core\n",
      "['AllstarFull', 'Appearances', 'Batting', 'BattingPost', 'Fielding', 'FieldingOF', 'FieldingOFsplit', 'FieldingPost', 'HomeGames', 'Managers', 'ManagersHalf', 'Parks', 'People', 'Pitching', 'PitchingPost', 'SeriesPost', 'Teams', 'TeamsFranchises', 'TeamsHalf']\n",
      "\n",
      "\n"
     ]
    }
   ],
   "source": [
    "files = lahman.get_filenames_in_directories()\n",
    "for k, v in files.items():\n",
    "    print(k)\n",
    "    print(v)\n",
    "    print('\\n')"
   ]
  },
  {
   "cell_type": "code",
   "execution_count": 6,
   "id": "5193b249",
   "metadata": {},
   "outputs": [],
   "source": [
    "dfs = lahman.get_tables_from_dir(['Batting', 'People'])"
   ]
  },
  {
   "cell_type": "code",
   "execution_count": 7,
   "id": "8fbde774",
   "metadata": {},
   "outputs": [
    {
     "name": "stdout",
     "output_type": "stream",
     "text": [
      "Batting\n",
      "People\n"
     ]
    }
   ],
   "source": [
    "for k, v in dfs.items():\n",
    "    print(k)"
   ]
  },
  {
   "cell_type": "code",
   "execution_count": 8,
   "id": "c8e38a6e",
   "metadata": {},
   "outputs": [
    {
     "data": {
      "text/html": [
       "<div>\n",
       "<style scoped>\n",
       "    .dataframe tbody tr th:only-of-type {\n",
       "        vertical-align: middle;\n",
       "    }\n",
       "\n",
       "    .dataframe tbody tr th {\n",
       "        vertical-align: top;\n",
       "    }\n",
       "\n",
       "    .dataframe thead th {\n",
       "        text-align: right;\n",
       "    }\n",
       "</style>\n",
       "<table border=\"1\" class=\"dataframe\">\n",
       "  <thead>\n",
       "    <tr style=\"text-align: right;\">\n",
       "      <th></th>\n",
       "      <th>playerID</th>\n",
       "      <th>yearID</th>\n",
       "      <th>stint</th>\n",
       "      <th>teamID</th>\n",
       "      <th>lgID</th>\n",
       "      <th>G</th>\n",
       "      <th>AB</th>\n",
       "      <th>R</th>\n",
       "      <th>H</th>\n",
       "      <th>2B</th>\n",
       "      <th>...</th>\n",
       "      <th>RBI</th>\n",
       "      <th>SB</th>\n",
       "      <th>CS</th>\n",
       "      <th>BB</th>\n",
       "      <th>SO</th>\n",
       "      <th>IBB</th>\n",
       "      <th>HBP</th>\n",
       "      <th>SH</th>\n",
       "      <th>SF</th>\n",
       "      <th>GIDP</th>\n",
       "    </tr>\n",
       "  </thead>\n",
       "  <tbody>\n",
       "    <tr>\n",
       "      <th>0</th>\n",
       "      <td>abercda01</td>\n",
       "      <td>1871</td>\n",
       "      <td>1</td>\n",
       "      <td>TRO</td>\n",
       "      <td>NaN</td>\n",
       "      <td>1</td>\n",
       "      <td>4</td>\n",
       "      <td>0</td>\n",
       "      <td>0</td>\n",
       "      <td>0</td>\n",
       "      <td>...</td>\n",
       "      <td>0.0</td>\n",
       "      <td>0.0</td>\n",
       "      <td>0.0</td>\n",
       "      <td>0</td>\n",
       "      <td>0.0</td>\n",
       "      <td>NaN</td>\n",
       "      <td>NaN</td>\n",
       "      <td>NaN</td>\n",
       "      <td>NaN</td>\n",
       "      <td>0.0</td>\n",
       "    </tr>\n",
       "    <tr>\n",
       "      <th>1</th>\n",
       "      <td>addybo01</td>\n",
       "      <td>1871</td>\n",
       "      <td>1</td>\n",
       "      <td>RC1</td>\n",
       "      <td>NaN</td>\n",
       "      <td>25</td>\n",
       "      <td>118</td>\n",
       "      <td>30</td>\n",
       "      <td>32</td>\n",
       "      <td>6</td>\n",
       "      <td>...</td>\n",
       "      <td>13.0</td>\n",
       "      <td>8.0</td>\n",
       "      <td>1.0</td>\n",
       "      <td>4</td>\n",
       "      <td>0.0</td>\n",
       "      <td>NaN</td>\n",
       "      <td>NaN</td>\n",
       "      <td>NaN</td>\n",
       "      <td>NaN</td>\n",
       "      <td>0.0</td>\n",
       "    </tr>\n",
       "    <tr>\n",
       "      <th>2</th>\n",
       "      <td>allisar01</td>\n",
       "      <td>1871</td>\n",
       "      <td>1</td>\n",
       "      <td>CL1</td>\n",
       "      <td>NaN</td>\n",
       "      <td>29</td>\n",
       "      <td>137</td>\n",
       "      <td>28</td>\n",
       "      <td>40</td>\n",
       "      <td>4</td>\n",
       "      <td>...</td>\n",
       "      <td>19.0</td>\n",
       "      <td>3.0</td>\n",
       "      <td>1.0</td>\n",
       "      <td>2</td>\n",
       "      <td>5.0</td>\n",
       "      <td>NaN</td>\n",
       "      <td>NaN</td>\n",
       "      <td>NaN</td>\n",
       "      <td>NaN</td>\n",
       "      <td>1.0</td>\n",
       "    </tr>\n",
       "    <tr>\n",
       "      <th>3</th>\n",
       "      <td>allisdo01</td>\n",
       "      <td>1871</td>\n",
       "      <td>1</td>\n",
       "      <td>WS3</td>\n",
       "      <td>NaN</td>\n",
       "      <td>27</td>\n",
       "      <td>133</td>\n",
       "      <td>28</td>\n",
       "      <td>44</td>\n",
       "      <td>10</td>\n",
       "      <td>...</td>\n",
       "      <td>27.0</td>\n",
       "      <td>1.0</td>\n",
       "      <td>1.0</td>\n",
       "      <td>0</td>\n",
       "      <td>2.0</td>\n",
       "      <td>NaN</td>\n",
       "      <td>NaN</td>\n",
       "      <td>NaN</td>\n",
       "      <td>NaN</td>\n",
       "      <td>0.0</td>\n",
       "    </tr>\n",
       "    <tr>\n",
       "      <th>4</th>\n",
       "      <td>ansonca01</td>\n",
       "      <td>1871</td>\n",
       "      <td>1</td>\n",
       "      <td>RC1</td>\n",
       "      <td>NaN</td>\n",
       "      <td>25</td>\n",
       "      <td>120</td>\n",
       "      <td>29</td>\n",
       "      <td>39</td>\n",
       "      <td>11</td>\n",
       "      <td>...</td>\n",
       "      <td>16.0</td>\n",
       "      <td>6.0</td>\n",
       "      <td>2.0</td>\n",
       "      <td>2</td>\n",
       "      <td>1.0</td>\n",
       "      <td>NaN</td>\n",
       "      <td>NaN</td>\n",
       "      <td>NaN</td>\n",
       "      <td>NaN</td>\n",
       "      <td>0.0</td>\n",
       "    </tr>\n",
       "  </tbody>\n",
       "</table>\n",
       "<p>5 rows × 22 columns</p>\n",
       "</div>"
      ],
      "text/plain": [
       "    playerID  yearID  stint teamID lgID   G   AB   R   H  2B  ...   RBI   SB  \\\n",
       "0  abercda01    1871      1    TRO  NaN   1    4   0   0   0  ...   0.0  0.0   \n",
       "1   addybo01    1871      1    RC1  NaN  25  118  30  32   6  ...  13.0  8.0   \n",
       "2  allisar01    1871      1    CL1  NaN  29  137  28  40   4  ...  19.0  3.0   \n",
       "3  allisdo01    1871      1    WS3  NaN  27  133  28  44  10  ...  27.0  1.0   \n",
       "4  ansonca01    1871      1    RC1  NaN  25  120  29  39  11  ...  16.0  6.0   \n",
       "\n",
       "    CS  BB   SO  IBB  HBP  SH  SF  GIDP  \n",
       "0  0.0   0  0.0  NaN  NaN NaN NaN   0.0  \n",
       "1  1.0   4  0.0  NaN  NaN NaN NaN   0.0  \n",
       "2  1.0   2  5.0  NaN  NaN NaN NaN   1.0  \n",
       "3  1.0   0  2.0  NaN  NaN NaN NaN   0.0  \n",
       "4  2.0   2  1.0  NaN  NaN NaN NaN   0.0  \n",
       "\n",
       "[5 rows x 22 columns]"
      ]
     },
     "execution_count": 8,
     "metadata": {},
     "output_type": "execute_result"
    }
   ],
   "source": [
    "dfs['Batting'].head()"
   ]
  },
  {
   "cell_type": "code",
   "execution_count": null,
   "id": "6c65433d",
   "metadata": {},
   "outputs": [],
   "source": []
  }
 ],
 "metadata": {
  "kernelspec": {
   "display_name": "Python 3 (ipykernel)",
   "language": "python",
   "name": "python3"
  },
  "language_info": {
   "codemirror_mode": {
    "name": "ipython",
    "version": 3
   },
   "file_extension": ".py",
   "mimetype": "text/x-python",
   "name": "python",
   "nbconvert_exporter": "python",
   "pygments_lexer": "ipython3",
   "version": "3.10.6"
  }
 },
 "nbformat": 4,
 "nbformat_minor": 5
}
