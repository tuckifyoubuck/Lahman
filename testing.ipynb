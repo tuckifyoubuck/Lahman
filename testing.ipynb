{
 "cells": [
  {
   "cell_type": "code",
   "execution_count": null,
   "id": "4e01af2c",
   "metadata": {},
   "outputs": [],
   "source": [
    "from bs4 import BeautifulSoup as bs\n",
    "import requests\n",
    "import pandas as pd"
   ]
  },
  {
   "cell_type": "code",
   "execution_count": null,
   "id": "f7a60122",
   "metadata": {},
   "outputs": [],
   "source": [
    "df = pd.read_csv('https://raw.githubusercontent.com/chadwickbureau/baseballdatabank/master/core/AllstarFull.csv')"
   ]
  },
  {
   "cell_type": "code",
   "execution_count": null,
   "id": "f7b3df8e",
   "metadata": {},
   "outputs": [],
   "source": [
    "df.info()"
   ]
  },
  {
   "cell_type": "code",
   "execution_count": null,
   "id": "072d01dc",
   "metadata": {},
   "outputs": [],
   "source": [
    "folder_list = ['core', 'contrib', 'upstream']"
   ]
  },
  {
   "cell_type": "code",
   "execution_count": null,
   "id": "22e2cfe8",
   "metadata": {},
   "outputs": [],
   "source": [
    "folder_list = ['core', 'contrib', 'upstream']\n",
    "folder_elements_dict = {}\n",
    "\n",
    "for f in folder_list:\n",
    "    res = requests.get(f\"https://github.com/chadwickbureau/baseballdatabank/tree/master/{f}\")\n",
    "    soup = bs(res.text, 'lxml')\n",
    "    file = soup.find_all('a',class_=\"js-navigation-open\")\n",
    "    file_list = []\n",
    "\n",
    "\n",
    "\n",
    "\n"
   ]
  },
  {
   "cell_type": "code",
   "execution_count": null,
   "id": "210a3c80",
   "metadata": {},
   "outputs": [],
   "source": [
    "from bs4 import BeautifulSoup as bs\n",
    "import requests\n",
    "l = []\n",
    "res = requests.get(\"https://github.com/chadwickbureau/baseballdatabank/tree/master\")    \n",
    "soup = bs(res.text, 'lxml')   \n",
    "file = soup.find_all('a',class_=\"js-navigation-open\")\n",
    "for i in file:\n",
    "    if '.' in i.text:\n",
    "        pass\n",
    "    elif '\\n' in i.text:\n",
    "        pass\n",
    "    else:\n",
    "        print(i.text)"
   ]
  },
  {
   "cell_type": "code",
   "execution_count": null,
   "id": "f1904391",
   "metadata": {},
   "outputs": [],
   "source": [
    "from bs4 import BeautifulSoup as bs\n",
    "import requests\n",
    "\n",
    "\n",
    "res = requests.get(\"https://github.com/chadwickbureau/baseballdatabank/tree/master\")    \n",
    "soup = bs(res.text, 'lxml')   \n",
    "file = soup.find_all('a',class_=\"js-navigation-open\")\n",
    "\n",
    "substring_list = ['.', '\\n']\n",
    "\n",
    "for i in file:\n",
    "    if not any(substring in i.text for substring in substring_list):\n",
    "        print(i.text)"
   ]
  },
  {
   "cell_type": "code",
   "execution_count": null,
   "id": "d989f602",
   "metadata": {},
   "outputs": [],
   "source": [
    "from bs4 import BeautifulSoup as bs\n",
    "import requests\n",
    "\n",
    "lahman_master = \"https://github.com/chadwickbureau/baseballdatabank/tree/master\"\n",
    "\n",
    "res = requests.get(lahman_master)    \n",
    "soup = bs(res.text, 'lxml')   \n",
    "file = soup.find_all('a',class_=\"js-navigation-open\")\n",
    "\n",
    "substring_ignore_list = ['.', '\\n']\n",
    "lahman_folders_list = []\n",
    "\n",
    "for i in file:\n",
    "    if not any(substring in i.text for substring in substring_ignore_list):\n",
    "        lahman_folders_list.append(i.text)\n",
    "        \n",
    "print(lahman_folders_list)"
   ]
  },
  {
   "cell_type": "code",
   "execution_count": null,
   "id": "adf5d236",
   "metadata": {},
   "outputs": [],
   "source": [
    "lahman_folder_element_dict = {}\n",
    "\n",
    "for folder in lahman_folders_list:\n",
    "    res = requests.get(lahman_master+'/'+folder)\n",
    "    soup = bs(res.text, 'lxml')\n",
    "    file = soup.find_all('a',class_=\"js-navigation-open\")\n",
    "    folder_files = []\n",
    "    for i in file:\n",
    "        if '.csv' in i.text:\n",
    "            folder_files.append(i.text)\n",
    "    lahman_folder_element_dict[folder] = folder_files\n",
    "\n",
    "print(lahman_folder_element_dict)"
   ]
  },
  {
   "cell_type": "code",
   "execution_count": null,
   "id": "07dd083c",
   "metadata": {},
   "outputs": [],
   "source": []
  },
  {
   "cell_type": "code",
   "execution_count": null,
   "id": "c35614ee",
   "metadata": {},
   "outputs": [],
   "source": []
  },
  {
   "cell_type": "code",
   "execution_count": null,
   "id": "82ae777c",
   "metadata": {},
   "outputs": [],
   "source": []
  },
  {
   "cell_type": "code",
   "execution_count": null,
   "id": "b35afc00",
   "metadata": {},
   "outputs": [],
   "source": []
  },
  {
   "cell_type": "code",
   "execution_count": null,
   "id": "4f799b8f",
   "metadata": {},
   "outputs": [],
   "source": []
  },
  {
   "cell_type": "code",
   "execution_count": 1,
   "id": "e337e913",
   "metadata": {},
   "outputs": [],
   "source": [
    "from lahman_class import Lahman"
   ]
  },
  {
   "cell_type": "code",
   "execution_count": 2,
   "id": "a9a63c37",
   "metadata": {},
   "outputs": [],
   "source": [
    "lahman = Lahman()"
   ]
  },
  {
   "cell_type": "code",
   "execution_count": 3,
   "id": "58e70b2e",
   "metadata": {},
   "outputs": [
    {
     "data": {
      "text/plain": [
       "['contrib', 'core', 'upstream']"
      ]
     },
     "execution_count": 3,
     "metadata": {},
     "output_type": "execute_result"
    }
   ],
   "source": [
    "directories = lahman.get_directories()\n",
    "directories"
   ]
  },
  {
   "cell_type": "code",
   "execution_count": 4,
   "id": "b8f9737c",
   "metadata": {},
   "outputs": [
    {
     "name": "stdout",
     "output_type": "stream",
     "text": [
      "core\n",
      "['AllstarFull.csv', 'Appearances.csv', 'Batting.csv', 'BattingPost.csv', 'Fielding.csv', 'FieldingOF.csv', 'FieldingOFsplit.csv', 'FieldingPost.csv', 'HomeGames.csv', 'Managers.csv', 'ManagersHalf.csv', 'Parks.csv', 'People.csv', 'Pitching.csv', 'PitchingPost.csv', 'SeriesPost.csv', 'Teams.csv', 'TeamsFranchises.csv', 'TeamsHalf.csv']\n",
      "\n",
      "\n"
     ]
    }
   ],
   "source": [
    "files = lahman.get_filenames_in_directories()\n",
    "for k, v in files.items():\n",
    "    print(k)\n",
    "    print(v)\n",
    "    print('\\n')"
   ]
  },
  {
   "cell_type": "code",
   "execution_count": null,
   "id": "00d14e7d",
   "metadata": {},
   "outputs": [],
   "source": []
  },
  {
   "cell_type": "code",
   "execution_count": null,
   "id": "125e5f5f",
   "metadata": {},
   "outputs": [],
   "source": []
  }
 ],
 "metadata": {
  "kernelspec": {
   "display_name": "Python 3 (ipykernel)",
   "language": "python",
   "name": "python3"
  },
  "language_info": {
   "codemirror_mode": {
    "name": "ipython",
    "version": 3
   },
   "file_extension": ".py",
   "mimetype": "text/x-python",
   "name": "python",
   "nbconvert_exporter": "python",
   "pygments_lexer": "ipython3",
   "version": "3.10.6"
  }
 },
 "nbformat": 4,
 "nbformat_minor": 5
}
